{
 "cells": [
  {
   "cell_type": "markdown",
   "id": "6af37e2b",
   "metadata": {},
   "source": [
    "## 폐기물 발생 현황 (폐합성수지류)"
   ]
  },
  {
   "cell_type": "markdown",
   "id": "66beb77f",
   "metadata": {},
   "source": [
    "코로나로 인해 배달 음식과 간편식 섭취가 증가하였다.   \n",
    "그에 따른 생활폐기물에서 플라스틱도 늘어나지 않았을까?\n"
   ]
  },
  {
   "cell_type": "markdown",
   "id": "eb852e77",
   "metadata": {},
   "source": [
    "### 필요한 라이브러리 불러오기"
   ]
  },
  {
   "cell_type": "code",
   "execution_count": 12,
   "id": "13d5ff11",
   "metadata": {},
   "outputs": [
    {
     "name": "stdout",
     "output_type": "stream",
     "text": [
      "Requirement already satisfied: koreanize-matplotlib in c:\\users\\yuna\\anaconda3\\lib\\site-packages (0.0.1)\n",
      "Requirement already satisfied: matplotlib in c:\\users\\yuna\\anaconda3\\lib\\site-packages (from koreanize-matplotlib) (3.5.2)\n",
      "Requirement already satisfied: packaging>=20.0 in c:\\users\\yuna\\anaconda3\\lib\\site-packages (from matplotlib->koreanize-matplotlib) (21.3)\n",
      "Requirement already satisfied: python-dateutil>=2.7 in c:\\users\\yuna\\anaconda3\\lib\\site-packages (from matplotlib->koreanize-matplotlib) (2.8.2)\n",
      "Requirement already satisfied: fonttools>=4.22.0 in c:\\users\\yuna\\anaconda3\\lib\\site-packages (from matplotlib->koreanize-matplotlib) (4.25.0)\n",
      "Requirement already satisfied: pillow>=6.2.0 in c:\\users\\yuna\\anaconda3\\lib\\site-packages (from matplotlib->koreanize-matplotlib) (9.2.0)\n",
      "Requirement already satisfied: kiwisolver>=1.0.1 in c:\\users\\yuna\\anaconda3\\lib\\site-packages (from matplotlib->koreanize-matplotlib) (1.4.2)\n",
      "Requirement already satisfied: pyparsing>=2.2.1 in c:\\users\\yuna\\anaconda3\\lib\\site-packages (from matplotlib->koreanize-matplotlib) (3.0.9)\n",
      "Requirement already satisfied: cycler>=0.10 in c:\\users\\yuna\\anaconda3\\lib\\site-packages (from matplotlib->koreanize-matplotlib) (0.11.0)\n",
      "Requirement already satisfied: numpy>=1.17 in c:\\users\\yuna\\anaconda3\\lib\\site-packages (from matplotlib->koreanize-matplotlib) (1.21.5)\n",
      "Requirement already satisfied: six>=1.5 in c:\\users\\yuna\\anaconda3\\lib\\site-packages (from python-dateutil>=2.7->matplotlib->koreanize-matplotlib) (1.16.0)\n"
     ]
    }
   ],
   "source": [
    "import pandas as pd\n",
    "import numpy as np\n",
    "import seaborn as sns\n",
    "import matplotlib.pyplot as plt\n",
    "\n",
    "%matplotlib inline\n",
    "\n",
    "!pip install koreanize-matplotlib\n",
    "\n",
    "import koreanize_matplotlib"
   ]
  },
  {
   "cell_type": "markdown",
   "id": "e74f1fab",
   "metadata": {},
   "source": [
    "### 데이터 로드하기"
   ]
  },
  {
   "cell_type": "markdown",
   "id": "683c4c0d",
   "metadata": {},
   "source": [
    "https://kosis.kr/statHtml/statHtml.do?orgId=106&tblId=DT_106N_99_3300351&conn_path=I2   \n",
    "환경부,「전국폐기물발생및처리현황」, 2019, 2023.06.01, 폐기물 발생현황_생활폐기물\n",
    "\n",
    "https://kosis.kr/statHtml/statHtml.do?orgId=106&tblId=DT_106N_29_2020001&conn_path=I2   \n",
    "환경부,「전국폐기물발생및처리현황」, 2021, 2023.06.01, 폐기물 발생현황_생활폐기물\n",
    "\n",
    "2019년 변경사항\n",
    "\n",
    "▶ 신규 폐기물 항목 추가, 폐기물 명칭 변경(폐기물관리법 상 명칭으로 변경), 항목 순서 변경 등\n",
    "\n",
    "<종량제 방식에 의한 혼합 배출>\n",
    "\n",
    "- 작성 범위 및 명칭변경 : 폐플라스틱류 삭제, 폐합성수지류 항목 추가\n",
    "\n",
    "<재활용가능자원 분리배출>\n",
    "\n",
    "- 항목 재분류 및 세부분류 추가: 비닐류(합성수지류), 플라스틱류, 발포수지류 ⇒ 폐합성수지류(비닐류, 발포수지류, PET병, 기타)"
   ]
  },
  {
   "cell_type": "code",
   "execution_count": 3,
   "id": "37377354",
   "metadata": {},
   "outputs": [],
   "source": [
    "a = pd.read_csv(\"폐기물_발생현황_생활폐기물_2016_2018.csv\", encoding=\"cp949\")\n",
    "b = pd.read_csv(\"폐기물_발생현황_생활폐기물_2019.csv\", encoding=\"cp949\")\n",
    "c = pd.read_csv(\"폐기물_발생현황_생활폐기물_2020_2021.csv\", encoding=\"cp949\")"
   ]
  },
  {
   "cell_type": "markdown",
   "id": "3374d466",
   "metadata": {},
   "source": [
    "### 데이터 미리보기"
   ]
  },
  {
   "cell_type": "code",
   "execution_count": 103,
   "id": "26352da2",
   "metadata": {
    "scrolled": true
   },
   "outputs": [
    {
     "data": {
      "text/html": [
       "<div>\n",
       "<style scoped>\n",
       "    .dataframe tbody tr th:only-of-type {\n",
       "        vertical-align: middle;\n",
       "    }\n",
       "\n",
       "    .dataframe tbody tr th {\n",
       "        vertical-align: top;\n",
       "    }\n",
       "\n",
       "    .dataframe thead th {\n",
       "        text-align: right;\n",
       "    }\n",
       "</style>\n",
       "<table border=\"1\" class=\"dataframe\">\n",
       "  <thead>\n",
       "    <tr style=\"text-align: right;\">\n",
       "      <th></th>\n",
       "      <th>시도(1)</th>\n",
       "      <th>항목별(1)</th>\n",
       "      <th>항목별(2)</th>\n",
       "      <th>항목별(3)</th>\n",
       "      <th>2016</th>\n",
       "      <th>2017</th>\n",
       "      <th>2018</th>\n",
       "    </tr>\n",
       "  </thead>\n",
       "  <tbody>\n",
       "    <tr>\n",
       "      <th>0</th>\n",
       "      <td>합계</td>\n",
       "      <td>종량제방식에의한혼합배출</td>\n",
       "      <td>가연성</td>\n",
       "      <td>플라스틱류</td>\n",
       "      <td>3265.3</td>\n",
       "      <td>3546.9</td>\n",
       "      <td>3752.8</td>\n",
       "    </tr>\n",
       "    <tr>\n",
       "      <th>1</th>\n",
       "      <td>합계</td>\n",
       "      <td>재활용가능자원 분리배출</td>\n",
       "      <td>플라스틱류</td>\n",
       "      <td>소계</td>\n",
       "      <td>966.7</td>\n",
       "      <td>1082.1</td>\n",
       "      <td>1226.2</td>\n",
       "    </tr>\n",
       "    <tr>\n",
       "      <th>2</th>\n",
       "      <td>합계</td>\n",
       "      <td>재활용가능자원 분리배출</td>\n",
       "      <td>합성수지류</td>\n",
       "      <td>소계</td>\n",
       "      <td>1147.0</td>\n",
       "      <td>1203.0</td>\n",
       "      <td>1295.7</td>\n",
       "    </tr>\n",
       "    <tr>\n",
       "      <th>3</th>\n",
       "      <td>합계</td>\n",
       "      <td>재활용가능자원 분리배출</td>\n",
       "      <td>발포수지류</td>\n",
       "      <td>소계</td>\n",
       "      <td>109.3</td>\n",
       "      <td>131.0</td>\n",
       "      <td>135.1</td>\n",
       "    </tr>\n",
       "  </tbody>\n",
       "</table>\n",
       "</div>"
      ],
      "text/plain": [
       "  시도(1)        항목별(1) 항목별(2) 항목별(3)    2016    2017    2018\n",
       "0    합계  종량제방식에의한혼합배출    가연성  플라스틱류  3265.3  3546.9  3752.8\n",
       "1    합계  재활용가능자원 분리배출  플라스틱류     소계   966.7  1082.1  1226.2\n",
       "2    합계  재활용가능자원 분리배출  합성수지류     소계  1147.0  1203.0  1295.7\n",
       "3    합계  재활용가능자원 분리배출  발포수지류     소계   109.3   131.0   135.1"
      ]
     },
     "execution_count": 103,
     "metadata": {},
     "output_type": "execute_result"
    }
   ],
   "source": [
    "a"
   ]
  },
  {
   "cell_type": "code",
   "execution_count": 134,
   "id": "527d2193",
   "metadata": {},
   "outputs": [
    {
     "data": {
      "text/html": [
       "<div>\n",
       "<style scoped>\n",
       "    .dataframe tbody tr th:only-of-type {\n",
       "        vertical-align: middle;\n",
       "    }\n",
       "\n",
       "    .dataframe tbody tr th {\n",
       "        vertical-align: top;\n",
       "    }\n",
       "\n",
       "    .dataframe thead th {\n",
       "        text-align: right;\n",
       "    }\n",
       "</style>\n",
       "<table border=\"1\" class=\"dataframe\">\n",
       "  <thead>\n",
       "    <tr style=\"text-align: right;\">\n",
       "      <th></th>\n",
       "      <th>시도(1)</th>\n",
       "      <th>항목별(1)</th>\n",
       "      <th>항목별(2)</th>\n",
       "      <th>항목별(3)</th>\n",
       "      <th>2019</th>\n",
       "    </tr>\n",
       "  </thead>\n",
       "  <tbody>\n",
       "    <tr>\n",
       "      <th>0</th>\n",
       "      <td>합계</td>\n",
       "      <td>종량제방식에의한혼합배출</td>\n",
       "      <td>가연성</td>\n",
       "      <td>폐합성수지류</td>\n",
       "      <td>4416.5</td>\n",
       "    </tr>\n",
       "    <tr>\n",
       "      <th>1</th>\n",
       "      <td>합계</td>\n",
       "      <td>재활용가능자원 분리배출</td>\n",
       "      <td>폐합성수지류</td>\n",
       "      <td>비닐류</td>\n",
       "      <td>1210.9</td>\n",
       "    </tr>\n",
       "    <tr>\n",
       "      <th>2</th>\n",
       "      <td>합계</td>\n",
       "      <td>재활용가능자원 분리배출</td>\n",
       "      <td>폐합성수지류</td>\n",
       "      <td>발포수지류</td>\n",
       "      <td>160.7</td>\n",
       "    </tr>\n",
       "    <tr>\n",
       "      <th>3</th>\n",
       "      <td>합계</td>\n",
       "      <td>재활용가능자원 분리배출</td>\n",
       "      <td>폐합성수지류</td>\n",
       "      <td>PET병</td>\n",
       "      <td>517.2</td>\n",
       "    </tr>\n",
       "    <tr>\n",
       "      <th>4</th>\n",
       "      <td>합계</td>\n",
       "      <td>재활용가능자원 분리배출</td>\n",
       "      <td>폐합성수지류</td>\n",
       "      <td>기타</td>\n",
       "      <td>715.5</td>\n",
       "    </tr>\n",
       "  </tbody>\n",
       "</table>\n",
       "</div>"
      ],
      "text/plain": [
       "  시도(1)        항목별(1)  항목별(2)  항목별(3)    2019\n",
       "0    합계  종량제방식에의한혼합배출     가연성  폐합성수지류  4416.5\n",
       "1    합계  재활용가능자원 분리배출  폐합성수지류     비닐류  1210.9\n",
       "2    합계  재활용가능자원 분리배출  폐합성수지류   발포수지류   160.7\n",
       "3    합계  재활용가능자원 분리배출  폐합성수지류    PET병   517.2\n",
       "4    합계  재활용가능자원 분리배출  폐합성수지류      기타   715.5"
      ]
     },
     "execution_count": 134,
     "metadata": {},
     "output_type": "execute_result"
    }
   ],
   "source": [
    "b"
   ]
  },
  {
   "cell_type": "code",
   "execution_count": 135,
   "id": "abf28495",
   "metadata": {},
   "outputs": [
    {
     "data": {
      "text/html": [
       "<div>\n",
       "<style scoped>\n",
       "    .dataframe tbody tr th:only-of-type {\n",
       "        vertical-align: middle;\n",
       "    }\n",
       "\n",
       "    .dataframe tbody tr th {\n",
       "        vertical-align: top;\n",
       "    }\n",
       "\n",
       "    .dataframe thead th {\n",
       "        text-align: right;\n",
       "    }\n",
       "</style>\n",
       "<table border=\"1\" class=\"dataframe\">\n",
       "  <thead>\n",
       "    <tr style=\"text-align: right;\">\n",
       "      <th></th>\n",
       "      <th>구분(1)</th>\n",
       "      <th>구분(2)</th>\n",
       "      <th>구분(3)</th>\n",
       "      <th>구분(4)</th>\n",
       "      <th>2020</th>\n",
       "      <th>2021</th>\n",
       "    </tr>\n",
       "  </thead>\n",
       "  <tbody>\n",
       "    <tr>\n",
       "      <th>0</th>\n",
       "      <td>전국</td>\n",
       "      <td>종량제방식 등 혼합배출</td>\n",
       "      <td>가연성</td>\n",
       "      <td>폐합성수지류</td>\n",
       "      <td>1706740.2</td>\n",
       "      <td>1750968.8</td>\n",
       "    </tr>\n",
       "    <tr>\n",
       "      <th>1</th>\n",
       "      <td>전국</td>\n",
       "      <td>재활용 가능자원 분리배출</td>\n",
       "      <td>폐합성수지류</td>\n",
       "      <td>비닐류</td>\n",
       "      <td>446161.1</td>\n",
       "      <td>439615.7</td>\n",
       "    </tr>\n",
       "    <tr>\n",
       "      <th>2</th>\n",
       "      <td>전국</td>\n",
       "      <td>재활용 가능자원 분리배출</td>\n",
       "      <td>폐합성수지류</td>\n",
       "      <td>발포수지류</td>\n",
       "      <td>74814.9</td>\n",
       "      <td>62222.9</td>\n",
       "    </tr>\n",
       "    <tr>\n",
       "      <th>3</th>\n",
       "      <td>전국</td>\n",
       "      <td>재활용 가능자원 분리배출</td>\n",
       "      <td>폐합성수지류</td>\n",
       "      <td>PET병</td>\n",
       "      <td>219142.9</td>\n",
       "      <td>185719.0</td>\n",
       "    </tr>\n",
       "    <tr>\n",
       "      <th>4</th>\n",
       "      <td>전국</td>\n",
       "      <td>재활용 가능자원 분리배출</td>\n",
       "      <td>폐합성수지류</td>\n",
       "      <td>기타</td>\n",
       "      <td>418641.9</td>\n",
       "      <td>471651.9</td>\n",
       "    </tr>\n",
       "  </tbody>\n",
       "</table>\n",
       "</div>"
      ],
      "text/plain": [
       "  구분(1)          구분(2)   구분(3)   구분(4)       2020       2021\n",
       "0    전국   종량제방식 등 혼합배출     가연성  폐합성수지류  1706740.2  1750968.8\n",
       "1    전국  재활용 가능자원 분리배출  폐합성수지류     비닐류   446161.1   439615.7\n",
       "2    전국  재활용 가능자원 분리배출  폐합성수지류   발포수지류    74814.9    62222.9\n",
       "3    전국  재활용 가능자원 분리배출  폐합성수지류    PET병   219142.9   185719.0\n",
       "4    전국  재활용 가능자원 분리배출  폐합성수지류      기타   418641.9   471651.9"
      ]
     },
     "execution_count": 135,
     "metadata": {},
     "output_type": "execute_result"
    }
   ],
   "source": [
    "c"
   ]
  },
  {
   "cell_type": "markdown",
   "id": "1442bcdd",
   "metadata": {},
   "source": [
    "### 데이터 전처리"
   ]
  },
  {
   "cell_type": "code",
   "execution_count": 4,
   "id": "61014280",
   "metadata": {},
   "outputs": [
    {
     "data": {
      "text/html": [
       "<div>\n",
       "<style scoped>\n",
       "    .dataframe tbody tr th:only-of-type {\n",
       "        vertical-align: middle;\n",
       "    }\n",
       "\n",
       "    .dataframe tbody tr th {\n",
       "        vertical-align: top;\n",
       "    }\n",
       "\n",
       "    .dataframe thead th {\n",
       "        text-align: right;\n",
       "    }\n",
       "</style>\n",
       "<table border=\"1\" class=\"dataframe\">\n",
       "  <thead>\n",
       "    <tr style=\"text-align: right;\">\n",
       "      <th></th>\n",
       "      <th>2016</th>\n",
       "      <th>2017</th>\n",
       "      <th>2018</th>\n",
       "    </tr>\n",
       "    <tr>\n",
       "      <th>항목별(1)</th>\n",
       "      <th></th>\n",
       "      <th></th>\n",
       "      <th></th>\n",
       "    </tr>\n",
       "  </thead>\n",
       "  <tbody>\n",
       "    <tr>\n",
       "      <th>재활용가능자원 분리배출</th>\n",
       "      <td>2223.0</td>\n",
       "      <td>2416.1</td>\n",
       "      <td>2657.0</td>\n",
       "    </tr>\n",
       "    <tr>\n",
       "      <th>종량제방식에의한혼합배출</th>\n",
       "      <td>3265.3</td>\n",
       "      <td>3546.9</td>\n",
       "      <td>3752.8</td>\n",
       "    </tr>\n",
       "  </tbody>\n",
       "</table>\n",
       "</div>"
      ],
      "text/plain": [
       "                2016    2017    2018\n",
       "항목별(1)                              \n",
       "재활용가능자원 분리배출  2223.0  2416.1  2657.0\n",
       "종량제방식에의한혼합배출  3265.3  3546.9  3752.8"
      ]
     },
     "execution_count": 4,
     "metadata": {},
     "output_type": "execute_result"
    }
   ],
   "source": [
    "a = a.pivot_table(index=\"항목별(1)\", values=['2016','2017','2018'], aggfunc='sum')\n",
    "a"
   ]
  },
  {
   "cell_type": "code",
   "execution_count": 5,
   "id": "8b076a1f",
   "metadata": {},
   "outputs": [
    {
     "data": {
      "text/html": [
       "<div>\n",
       "<style scoped>\n",
       "    .dataframe tbody tr th:only-of-type {\n",
       "        vertical-align: middle;\n",
       "    }\n",
       "\n",
       "    .dataframe tbody tr th {\n",
       "        vertical-align: top;\n",
       "    }\n",
       "\n",
       "    .dataframe thead th {\n",
       "        text-align: right;\n",
       "    }\n",
       "</style>\n",
       "<table border=\"1\" class=\"dataframe\">\n",
       "  <thead>\n",
       "    <tr style=\"text-align: right;\">\n",
       "      <th></th>\n",
       "      <th>2019</th>\n",
       "    </tr>\n",
       "    <tr>\n",
       "      <th>항목별(1)</th>\n",
       "      <th></th>\n",
       "    </tr>\n",
       "  </thead>\n",
       "  <tbody>\n",
       "    <tr>\n",
       "      <th>재활용가능자원 분리배출</th>\n",
       "      <td>2604.3</td>\n",
       "    </tr>\n",
       "    <tr>\n",
       "      <th>종량제방식에의한혼합배출</th>\n",
       "      <td>4416.5</td>\n",
       "    </tr>\n",
       "  </tbody>\n",
       "</table>\n",
       "</div>"
      ],
      "text/plain": [
       "                2019\n",
       "항목별(1)              \n",
       "재활용가능자원 분리배출  2604.3\n",
       "종량제방식에의한혼합배출  4416.5"
      ]
     },
     "execution_count": 5,
     "metadata": {},
     "output_type": "execute_result"
    }
   ],
   "source": [
    "b = b.pivot_table(index=\"항목별(1)\", values='2019', aggfunc='sum')\n",
    "b"
   ]
  },
  {
   "cell_type": "code",
   "execution_count": 6,
   "id": "f93f7753",
   "metadata": {},
   "outputs": [
    {
     "data": {
      "text/html": [
       "<div>\n",
       "<style scoped>\n",
       "    .dataframe tbody tr th:only-of-type {\n",
       "        vertical-align: middle;\n",
       "    }\n",
       "\n",
       "    .dataframe tbody tr th {\n",
       "        vertical-align: top;\n",
       "    }\n",
       "\n",
       "    .dataframe thead th {\n",
       "        text-align: right;\n",
       "    }\n",
       "</style>\n",
       "<table border=\"1\" class=\"dataframe\">\n",
       "  <thead>\n",
       "    <tr style=\"text-align: right;\">\n",
       "      <th></th>\n",
       "      <th>2020</th>\n",
       "      <th>2021</th>\n",
       "    </tr>\n",
       "    <tr>\n",
       "      <th>구분(2)</th>\n",
       "      <th></th>\n",
       "      <th></th>\n",
       "    </tr>\n",
       "  </thead>\n",
       "  <tbody>\n",
       "    <tr>\n",
       "      <th>재활용 가능자원 분리배출</th>\n",
       "      <td>1158760.8</td>\n",
       "      <td>1159209.5</td>\n",
       "    </tr>\n",
       "    <tr>\n",
       "      <th>종량제방식 등 혼합배출</th>\n",
       "      <td>1706740.2</td>\n",
       "      <td>1750968.8</td>\n",
       "    </tr>\n",
       "  </tbody>\n",
       "</table>\n",
       "</div>"
      ],
      "text/plain": [
       "                    2020       2021\n",
       "구분(2)                              \n",
       "재활용 가능자원 분리배출  1158760.8  1159209.5\n",
       "종량제방식 등 혼합배출   1706740.2  1750968.8"
      ]
     },
     "execution_count": 6,
     "metadata": {},
     "output_type": "execute_result"
    }
   ],
   "source": [
    "c = c.pivot_table(index=\"구분(2)\", values=['2020','2021'], aggfunc='sum')\n",
    "c"
   ]
  },
  {
   "cell_type": "code",
   "execution_count": 7,
   "id": "e4d9d956",
   "metadata": {},
   "outputs": [
    {
     "data": {
      "text/html": [
       "<div>\n",
       "<style scoped>\n",
       "    .dataframe tbody tr th:only-of-type {\n",
       "        vertical-align: middle;\n",
       "    }\n",
       "\n",
       "    .dataframe tbody tr th {\n",
       "        vertical-align: top;\n",
       "    }\n",
       "\n",
       "    .dataframe thead th {\n",
       "        text-align: right;\n",
       "    }\n",
       "</style>\n",
       "<table border=\"1\" class=\"dataframe\">\n",
       "  <thead>\n",
       "    <tr style=\"text-align: right;\">\n",
       "      <th></th>\n",
       "      <th>2016</th>\n",
       "      <th>2017</th>\n",
       "      <th>2018</th>\n",
       "      <th>2019</th>\n",
       "    </tr>\n",
       "    <tr>\n",
       "      <th>항목별(1)</th>\n",
       "      <th></th>\n",
       "      <th></th>\n",
       "      <th></th>\n",
       "      <th></th>\n",
       "    </tr>\n",
       "  </thead>\n",
       "  <tbody>\n",
       "    <tr>\n",
       "      <th>재활용가능자원 분리배출</th>\n",
       "      <td>811395.0</td>\n",
       "      <td>881876.5</td>\n",
       "      <td>969805.0</td>\n",
       "      <td>950569.5</td>\n",
       "    </tr>\n",
       "    <tr>\n",
       "      <th>종량제방식에의한혼합배출</th>\n",
       "      <td>1191834.5</td>\n",
       "      <td>1294618.5</td>\n",
       "      <td>1369772.0</td>\n",
       "      <td>1612022.5</td>\n",
       "    </tr>\n",
       "  </tbody>\n",
       "</table>\n",
       "</div>"
      ],
      "text/plain": [
       "                   2016       2017       2018       2019\n",
       "항목별(1)                                                  \n",
       "재활용가능자원 분리배출   811395.0   881876.5   969805.0   950569.5\n",
       "종량제방식에의한혼합배출  1191834.5  1294618.5  1369772.0  1612022.5"
      ]
     },
     "execution_count": 7,
     "metadata": {},
     "output_type": "execute_result"
    }
   ],
   "source": [
    "df = pd.concat([a, b], axis=1)\n",
    "df = df * 365\n",
    "df"
   ]
  },
  {
   "cell_type": "code",
   "execution_count": 8,
   "id": "664c27b9",
   "metadata": {},
   "outputs": [],
   "source": [
    "df = df.rename(index={'재활용가능자원 분리배출': '재활용 가능자원 분리배출', '종량제방식에의한혼합배출': '종량제방식 등 혼합배출'})"
   ]
  },
  {
   "cell_type": "code",
   "execution_count": 9,
   "id": "29dedd0a",
   "metadata": {},
   "outputs": [
    {
     "data": {
      "text/html": [
       "<div>\n",
       "<style scoped>\n",
       "    .dataframe tbody tr th:only-of-type {\n",
       "        vertical-align: middle;\n",
       "    }\n",
       "\n",
       "    .dataframe tbody tr th {\n",
       "        vertical-align: top;\n",
       "    }\n",
       "\n",
       "    .dataframe thead th {\n",
       "        text-align: right;\n",
       "    }\n",
       "</style>\n",
       "<table border=\"1\" class=\"dataframe\">\n",
       "  <thead>\n",
       "    <tr style=\"text-align: right;\">\n",
       "      <th></th>\n",
       "      <th>2016</th>\n",
       "      <th>2017</th>\n",
       "      <th>2018</th>\n",
       "      <th>2019</th>\n",
       "      <th>2020</th>\n",
       "      <th>2021</th>\n",
       "    </tr>\n",
       "  </thead>\n",
       "  <tbody>\n",
       "    <tr>\n",
       "      <th>재활용 가능자원 분리배출</th>\n",
       "      <td>811395.0</td>\n",
       "      <td>881876.5</td>\n",
       "      <td>969805.0</td>\n",
       "      <td>950569.5</td>\n",
       "      <td>1158760.8</td>\n",
       "      <td>1159209.5</td>\n",
       "    </tr>\n",
       "    <tr>\n",
       "      <th>종량제방식 등 혼합배출</th>\n",
       "      <td>1191834.5</td>\n",
       "      <td>1294618.5</td>\n",
       "      <td>1369772.0</td>\n",
       "      <td>1612022.5</td>\n",
       "      <td>1706740.2</td>\n",
       "      <td>1750968.8</td>\n",
       "    </tr>\n",
       "  </tbody>\n",
       "</table>\n",
       "</div>"
      ],
      "text/plain": [
       "                    2016       2017       2018       2019       2020  \\\n",
       "재활용 가능자원 분리배출   811395.0   881876.5   969805.0   950569.5  1158760.8   \n",
       "종량제방식 등 혼합배출   1191834.5  1294618.5  1369772.0  1612022.5  1706740.2   \n",
       "\n",
       "                    2021  \n",
       "재활용 가능자원 분리배출  1159209.5  \n",
       "종량제방식 등 혼합배출   1750968.8  "
      ]
     },
     "execution_count": 9,
     "metadata": {},
     "output_type": "execute_result"
    }
   ],
   "source": [
    "df = pd.concat([df, c], axis=1)\n",
    "df"
   ]
  },
  {
   "cell_type": "markdown",
   "id": "ea35745c",
   "metadata": {},
   "source": [
    "### 데이터 시각화"
   ]
  },
  {
   "cell_type": "code",
   "execution_count": 10,
   "id": "a50d04aa",
   "metadata": {},
   "outputs": [],
   "source": [
    "transposed_df = df.transpose()"
   ]
  },
  {
   "cell_type": "code",
   "execution_count": 23,
   "id": "e850f49e",
   "metadata": {},
   "outputs": [
    {
     "data": {
      "image/png": "[encoded data removed]",
      "text/plain": [
       "<Figure size 640x480 with 1 Axes>"
      ]
     },
     "metadata": {},
     "output_type": "display_data"
    }
   ],
   "source": [
    "transposed_df.plot(kind='line', marker='o')\n",
    "plt.xlabel('연도')\n",
    "plt.ylabel('톤/일')\n",
    "plt.title('연도별 폐합성수지류 발생량')\n",
    "plt.xticks(rotation=0)\n",
    "plt.legend\n",
    "plt.show()"
   ]
  },
  {
   "cell_type": "code",
   "execution_count": null,
   "id": "a1e76394",
   "metadata": {},
   "outputs": [],
   "source": []
  }
 ],
 "metadata": {
  "kernelspec": {
   "display_name": "Python 3 (ipykernel)",
   "language": "python",
   "name": "python3"
  },
  "language_info": {
   "codemirror_mode": {
    "name": "ipython",
    "version": 3
   },
   "file_extension": ".py",
   "mimetype": "text/x-python",
   "name": "python",
   "nbconvert_exporter": "python",
   "pygments_lexer": "ipython3",
   "version": "3.9.13"
  },
  "toc": {
   "base_numbering": 1,
   "nav_menu": {},
   "number_sections": true,
   "sideBar": true,
   "skip_h1_title": false,
   "title_cell": "Table of Contents",
   "title_sidebar": "Contents",
   "toc_cell": false,
   "toc_position": {},
   "toc_section_display": true,
   "toc_window_display": false
  },
  "varInspector": {
   "cols": {
    "lenName": 16,
    "lenType": 16,
    "lenVar": 40
   },
   "kernels_config": {
    "python": {
     "delete_cmd_postfix": "",
     "delete_cmd_prefix": "del ",
     "library": "var_list.py",
     "varRefreshCmd": "print(var_dic_list())"
    },
    "r": {
     "delete_cmd_postfix": ") ",
     "delete_cmd_prefix": "rm(",
     "library": "var_list.r",
     "varRefreshCmd": "cat(var_dic_list()) "
    }
   },
   "types_to_exclude": [
    "module",
    "function",
    "builtin_function_or_method",
    "instance",
    "_Feature"
   ],
   "window_display": false
  }
 },
 "nbformat": 4,
 "nbformat_minor": 5
}
